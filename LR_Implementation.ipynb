{
 "cells": [
  {
   "cell_type": "code",
   "execution_count": 9,
   "id": "516e70d8",
   "metadata": {},
   "outputs": [],
   "source": [
    "# 1. Import the necessary libraries:\n",
    "import pandas as pd\n",
    "import numpy as np\n",
    "import matplotlib.pyplot as plt\n",
    "import matplotlib.axes as ax\n",
    "from matplotlib.animation import FuncAnimation"
   ]
  },
  {
   "cell_type": "code",
   "execution_count": 8,
   "id": "85b0f190",
   "metadata": {},
   "outputs": [
    {
     "data": {
      "text/html": [
       "<div>\n",
       "<style scoped>\n",
       "    .dataframe tbody tr th:only-of-type {\n",
       "        vertical-align: middle;\n",
       "    }\n",
       "\n",
       "    .dataframe tbody tr th {\n",
       "        vertical-align: top;\n",
       "    }\n",
       "\n",
       "    .dataframe thead th {\n",
       "        text-align: right;\n",
       "    }\n",
       "</style>\n",
       "<table border=\"1\" class=\"dataframe\">\n",
       "  <thead>\n",
       "    <tr style=\"text-align: right;\">\n",
       "      <th></th>\n",
       "      <th>x</th>\n",
       "      <th>y</th>\n",
       "    </tr>\n",
       "  </thead>\n",
       "  <tbody>\n",
       "    <tr>\n",
       "      <th>0</th>\n",
       "      <td>24.0</td>\n",
       "      <td>21.549452</td>\n",
       "    </tr>\n",
       "    <tr>\n",
       "      <th>1</th>\n",
       "      <td>50.0</td>\n",
       "      <td>47.464463</td>\n",
       "    </tr>\n",
       "    <tr>\n",
       "      <th>2</th>\n",
       "      <td>15.0</td>\n",
       "      <td>17.218656</td>\n",
       "    </tr>\n",
       "    <tr>\n",
       "      <th>3</th>\n",
       "      <td>38.0</td>\n",
       "      <td>36.586398</td>\n",
       "    </tr>\n",
       "    <tr>\n",
       "      <th>4</th>\n",
       "      <td>87.0</td>\n",
       "      <td>87.288984</td>\n",
       "    </tr>\n",
       "  </tbody>\n",
       "</table>\n",
       "</div>"
      ],
      "text/plain": [
       "      x          y\n",
       "0  24.0  21.549452\n",
       "1  50.0  47.464463\n",
       "2  15.0  17.218656\n",
       "3  38.0  36.586398\n",
       "4  87.0  87.288984"
      ]
     },
     "execution_count": 8,
     "metadata": {},
     "output_type": "execute_result"
    }
   ],
   "source": [
    "# Load the Dataset\n",
    "url = \"D:/ML_PROJECTS/THE-----------LAST------------RUN/Linear_Regression/Linear_Regression_Implementation/data/data_for_lr.csv\"\n",
    "data = pd.read_csv(url)\n",
    "\n",
    "data.head()"
   ]
  },
  {
   "cell_type": "code",
   "execution_count": 4,
   "id": "e15480b9",
   "metadata": {},
   "outputs": [
    {
     "data": {
      "text/plain": [
       "(700, 2)"
      ]
     },
     "execution_count": 4,
     "metadata": {},
     "output_type": "execute_result"
    }
   ],
   "source": [
    "data.shape"
   ]
  },
  {
   "cell_type": "code",
   "execution_count": 5,
   "id": "a784a0ee",
   "metadata": {},
   "outputs": [
    {
     "data": {
      "text/plain": [
       "x    0\n",
       "y    1\n",
       "dtype: int64"
      ]
     },
     "execution_count": 5,
     "metadata": {},
     "output_type": "execute_result"
    }
   ],
   "source": [
    "data.isna().sum()"
   ]
  },
  {
   "cell_type": "code",
   "execution_count": 7,
   "id": "9be94da3",
   "metadata": {},
   "outputs": [],
   "source": [
    "# 3. Separate input and Target variables\n",
    "data = data.dropna()\n",
    "\n",
    "train_input = np.array(data.x[0:500]).reshape(500, 1)\n",
    "train_output = np.array(data.y[0:500]).reshape(500, 1)\n",
    "\n",
    "test_input = np.array(data.x[500:700]).reshape(199, 1)\n",
    "test_output = np.array(data.y[500:700]).reshape(199, 1)"
   ]
  },
  {
   "cell_type": "code",
   "execution_count": null,
   "id": "5aeaacfa",
   "metadata": {},
   "outputs": [],
   "source": [
    "# 4. Build the Linear Regression Model and Plot the regression line\n",
    "class LinearRegression: \n",
    "    def __init__(self): \n",
    "        self.parameters = {} \n",
    "\n",
    "    def forward_propagation(self, train_input): \n",
    "        m = self.parameters['m'] \n",
    "        c = self.parameters['c'] \n",
    "        predictions = np.multiply(m, train_input) + c \n",
    "        return predictions \n",
    "\n",
    "    def cost_function(self, predictions, train_output): \n",
    "        cost = np.mean((train_output - predictions) ** 2) \n",
    "        return cost \n",
    "\n",
    "    def backward_propagation(self, train_input, train_output, predictions): \n",
    "        derivatives = {} \n",
    "        df = (predictions-train_output) \n",
    "        dm = 2 * np.mean(np.multiply(train_input, df)) \n",
    "        dc = 2 * np.mean(df) \n",
    "        derivatives['dm'] = dm \n",
    "        derivatives['dc'] = dc \n",
    "        return derivatives \n",
    "\n",
    "    def update_parameters(self, derivatives, learning_rate): \n",
    "        self.parameters['m'] = self.parameters['m'] - learning_rate * derivatives['dm'] \n",
    "        self.parameters['c'] = self.parameters['c'] - learning_rate * derivatives['dc'] \n",
    "\n",
    "    def train(self, train_input, train_output, learning_rate, iters): \n",
    "        self.parameters['m'] = np.random.uniform(0, 1) * -1\n",
    "        self.parameters['c'] = np.random.uniform(0, 1) * -1\n",
    "\n",
    "        self.loss = [] \n",
    "\n",
    "        fig, ax = plt.subplots() \n",
    "        x_vals = np.linspace(min(train_input), max(train_input), 100) \n",
    "        line, = ax.plot(x_vals, self.parameters['m'] * x_vals + self.parameters['c'], color='red', label='Regression Line') \n",
    "        ax.scatter(train_input, train_output, marker='o', color='green', label='Training Data') \n",
    "\n",
    "        ax.set_ylim(0, max(train_output) + 1) \n",
    "\n",
    "        def update(frame): \n",
    "            predictions = self.forward_propagation(train_input) \n",
    "            cost = self.cost_function(predictions, train_output) \n",
    "            derivatives = self.backward_propagation(train_input, train_output, predictions) \n",
    "            self.update_parameters(derivatives, learning_rate) \n",
    "            line.set_ydata(self.parameters['m'] * x_vals + self.parameters['c']) \n",
    "            self.loss.append(cost) \n",
    "            print(\"Iteration = {}, Loss = {}\".format(frame + 1, cost)) \n",
    "            return line, \n",
    "\n",
    "        ani = FuncAnimation(fig, update, frames=iters, interval=200, blit=True) \n",
    "        ani.save('linear_regression_A.gif', writer='ffmpeg') \n",
    "\n",
    "        plt.xlabel('Input') \n",
    "        plt.ylabel('Output') \n",
    "        plt.title('Linear Regression') \n",
    "        plt.legend() \n",
    "        plt.show() \n",
    "\n",
    "        return self.parameters, self.loss\n"
   ]
  },
  {
   "cell_type": "code",
   "execution_count": 11,
   "id": "79011246",
   "metadata": {},
   "outputs": [
    {
     "name": "stderr",
     "output_type": "stream",
     "text": [
      "MovieWriter ffmpeg unavailable; using Pillow instead.\n"
     ]
    },
    {
     "name": "stdout",
     "output_type": "stream",
     "text": [
      "Iteration = 1, Loss = 12001.113997586173\n",
      "Iteration = 1, Loss = 1453.14776224983\n",
      "Iteration = 1, Loss = 182.00304044612437\n",
      "Iteration = 1, Loss = 28.816267555974985\n",
      "Iteration = 2, Loss = 10.355593870838522\n",
      "Iteration = 3, Loss = 8.130881318842263\n",
      "Iteration = 4, Loss = 7.862778773948921\n",
      "Iteration = 5, Loss = 7.8304690280885625\n",
      "Iteration = 6, Loss = 7.826574880613018\n",
      "Iteration = 7, Loss = 7.826105122027755\n",
      "Iteration = 8, Loss = 7.826048039617745\n",
      "Iteration = 9, Loss = 7.826040689225357\n",
      "Iteration = 10, Loss = 7.8260393321297945\n",
      "Iteration = 11, Loss = 7.826038697339201\n",
      "Iteration = 12, Loss = 7.826038149641696\n",
      "Iteration = 13, Loss = 7.826037612487324\n",
      "Iteration = 14, Loss = 7.826037076650984\n",
      "Iteration = 15, Loss = 7.826036541020941\n",
      "Iteration = 16, Loss = 7.826036005463215\n",
      "Iteration = 17, Loss = 7.826035469961657\n",
      "Iteration = 18, Loss = 7.826034934514312\n",
      "Iteration = 19, Loss = 7.826034399120947\n",
      "Iteration = 20, Loss = 7.826033863781523\n"
     ]
    },
    {
     "data": {
      "image/png": "[encoded data removed]",
      "text/plain": [
       "<Figure size 640x480 with 1 Axes>"
      ]
     },
     "metadata": {},
     "output_type": "display_data"
    }
   ],
   "source": [
    "linear_reg = LinearRegression()\n",
    "parameters, loss = linear_reg.train(train_input, train_output, 0.0001, 20)\n"
   ]
  },
  {
   "cell_type": "code",
   "execution_count": null,
   "metadata": {},
   "outputs": [],
   "source": []
  },
  {
   "cell_type": "code",
   "execution_count": null,
   "id": "74c31b4a",
   "metadata": {},
   "outputs": [],
   "source": []
  }
 ],
 "metadata": {
  "kernelspec": {
   "display_name": "myenv",
   "language": "python",
   "name": "python3"
  },
  "language_info": {
   "codemirror_mode": {
    "name": "ipython",
    "version": 3
   },
   "file_extension": ".py",
   "mimetype": "text/x-python",
   "name": "python",
   "nbconvert_exporter": "python",
   "pygments_lexer": "ipython3",
   "version": "3.11.11"
  }
 },
 "nbformat": 4,
 "nbformat_minor": 5
}
